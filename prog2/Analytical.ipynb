{
 "cells": [
  {
   "cell_type": "code",
   "execution_count": 70,
   "id": "4fd51ad6",
   "metadata": {},
   "outputs": [],
   "source": [
    "def strassen(n):\n",
    "    if n == 1:\n",
    "        return 1\n",
    "    return 7 * strassen(math.ceil(n/2)) + (9*(n**2) / 2)\n",
    "\n",
    "def conventional(n):\n",
    "    return 2 * n ** 3 - n ** 2"
   ]
  },
  {
   "cell_type": "code",
   "execution_count": 102,
   "id": "44ec1106",
   "metadata": {},
   "outputs": [],
   "source": [
    "def strassen_mod(n, crossover):\n",
    "    if n < crossover:\n",
    "        return conventional(n)\n",
    "    return 7 * strassen_mod(math.ceil(n/2), crossover) + (9*(n**2) / 2)"
   ]
  },
  {
   "cell_type": "code",
   "execution_count": 126,
   "id": "397604e7",
   "metadata": {},
   "outputs": [],
   "source": [
    "def strassen_pad(n, crossover):\n",
    "    if n < crossover:\n",
    "        return conventional(n)\n",
    "    if n % 2 == 1:\n",
    "        return strassen_mod(n+1, crossover)\n",
    "    return 7 * strassen_mod(n/2, crossover) + (9*(n**2) / 2)"
   ]
  },
  {
   "cell_type": "code",
   "execution_count": 144,
   "id": "7fefbf77",
   "metadata": {},
   "outputs": [
    {
     "data": {
      "image/png": "[encoded data removed]",
      "text/plain": [
       "<Figure size 432x288 with 1 Axes>"
      ]
     },
     "metadata": {
      "needs_background": "light"
     },
     "output_type": "display_data"
    }
   ],
   "source": [
    "from numpy import *\n",
    "import math\n",
    "import matplotlib.pyplot as plt\n",
    "\n",
    "t = linspace(5, 150, 100, dtype=int)\n",
    "\n",
    "a = [strassen_mod(3000, x) for x in t]\n",
    "b = [strassen_mod(10001, x) for x in t]\n",
    "c = [strassen_mod(10000, x) for x in t]\n",
    "\n",
    "# b = [strassen(2000) for x in t]\n",
    "\n",
    "# plt.plot(t, a, 'r') # plotting t, a separately \n",
    "plt.plot(t, b, 'b') # plotting t, b separately \n",
    "# plt.plot(t, c, 'g') # plotting t, b separately \n",
    "plt.show()\n"
   ]
  },
  {
   "cell_type": "code",
   "execution_count": 137,
   "id": "bf8048f0",
   "metadata": {},
   "outputs": [
    {
     "data": {
      "image/png": "[encoded data removed]",
      "text/plain": [
       "<Figure size 432x288 with 1 Axes>"
      ]
     },
     "metadata": {
      "needs_background": "light"
     },
     "output_type": "display_data"
    }
   ],
   "source": [
    "from numpy import *\n",
    "import math\n",
    "import matplotlib.pyplot as plt\n",
    "\n",
    "t = linspace(5, 20, 10, dtype=int)\n",
    "\n",
    "a = [strassen(x) for x in t]\n",
    "\n",
    "b = [conventional(x) for x in t]\n",
    "\n",
    "plt.plot(t, a, 'r') # plotting t, a separately \n",
    "plt.plot(t, b, 'b') # plotting t, b separately \n",
    "plt.show()\n"
   ]
  },
  {
   "cell_type": "code",
   "execution_count": 130,
   "id": "38d85dcb",
   "metadata": {},
   "outputs": [
    {
     "data": {
      "image/png": "[encoded data removed]",
      "text/plain": [
       "<Figure size 432x288 with 1 Axes>"
      ]
     },
     "metadata": {
      "needs_background": "light"
     },
     "output_type": "display_data"
    }
   ],
   "source": [
    "from numpy import *\n",
    "import math\n",
    "import matplotlib.pyplot as plt\n",
    "\n",
    "t = linspace(5, 150, 100, dtype=int)\n",
    "\n",
    "a = [strassen_pad(2000, x) for x in t]\n",
    "\n",
    "plt.plot(t, a, 'r') # plotting t, a separately \n",
    "plt.show()\n"
   ]
  },
  {
   "cell_type": "code",
   "execution_count": 128,
   "id": "a35bd411",
   "metadata": {},
   "outputs": [
    {
     "name": "stdout",
     "output_type": "stream",
     "text": [
      "8340810286.0 5\n",
      "8340810286.0 6\n",
      "8340810286.0 7\n",
      "8340810286.0 8\n",
      "7695152574.0 9\n",
      "7695152574.0 10\n",
      "7695152574.0 11\n",
      "7695152574.0 12\n",
      "7695152574.0 13\n",
      "7695152574.0 14\n",
      "7695152574.0 15\n",
      "7695152574.0 16\n",
      "7747859326.0 17\n",
      "7747859326.0 18\n",
      "7747859326.0 19\n",
      "7747859326.0 20\n",
      "7747859326.0 21\n",
      "7747859326.0 22\n",
      "7747859326.0 23\n",
      "7747859326.0 24\n",
      "7747859326.0 25\n",
      "7747859326.0 26\n"
     ]
    },
    {
     "data": {
      "image/png": "[encoded data removed]",
      "text/plain": [
       "<Figure size 432x288 with 1 Axes>"
      ]
     },
     "metadata": {
      "needs_background": "light"
     },
     "output_type": "display_data"
    }
   ],
   "source": [
    "from numpy import *\n",
    "import math\n",
    "import matplotlib.pyplot as plt\n",
    "\n",
    "t = [5, 6 ,7, 8, 9, 10, 11, 12, 13,14,15,16, 17, 18, 19, 20, 21, 23, 24, 25, 26, 27]\n",
    "\n",
    "\n",
    "a = [strassen_pad(2000, x) for x in t]\n",
    "for i, entry in enumerate(a):\n",
    "    print(entry, i+5)\n",
    "\n",
    "b = [strassen(2000) for x in t]\n",
    "\n",
    "plt.scatter(t, a) # plotting t, a separately \n",
    "# plt.scatter(t, b) # plotting t, b separately \n",
    "plt.show()\n"
   ]
  },
  {
   "cell_type": "code",
   "execution_count": null,
   "id": "b542b611",
   "metadata": {},
   "outputs": [],
   "source": [
    "from scipy.optimize import minimize\n",
    "\n",
    "minimize()"
   ]
  }
 ],
 "metadata": {
  "kernelspec": {
   "display_name": "Python 3 (ipykernel)",
   "language": "python",
   "name": "python3"
  },
  "language_info": {
   "codemirror_mode": {
    "name": "ipython",
    "version": 3
   },
   "file_extension": ".py",
   "mimetype": "text/x-python",
   "name": "python",
   "nbconvert_exporter": "python",
   "pygments_lexer": "ipython3",
   "version": "3.9.7"
  }
 },
 "nbformat": 4,
 "nbformat_minor": 5
}
